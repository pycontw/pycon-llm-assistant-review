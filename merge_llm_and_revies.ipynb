{
 "cells": [
  {
   "cell_type": "code",
   "execution_count": 1,
   "metadata": {},
   "outputs": [],
   "source": [
    "import pandas as pd"
   ]
  },
  {
   "cell_type": "code",
   "execution_count": 2,
   "metadata": {},
   "outputs": [
    {
     "name": "stderr",
     "output_type": "stream",
     "text": [
      "/usr/local/lib/python3.11/site-packages/openpyxl/styles/stylesheet.py:237: UserWarning: Workbook contains no default style, apply openpyxl's default\n",
      "  warn(\"Workbook contains no default style, apply openpyxl's default\")\n",
      "/usr/local/lib/python3.11/site-packages/openpyxl/styles/stylesheet.py:237: UserWarning: Workbook contains no default style, apply openpyxl's default\n",
      "  warn(\"Workbook contains no default style, apply openpyxl's default\")\n"
     ]
    }
   ],
   "source": [
    "pd.set_option('display.max_rows', 100)\n",
    "\n",
    "proposal_df = pd.read_excel('data/pycon_2024_proposal.xlsx', dtype={'id': str})\n",
    "vote_df = pd.read_excel('data/pycon_2024_review.xlsx', dtype={'vote': str, 'proposal_id': str})\n",
    "vote_df['vote_int'] = vote_df['vote'].astype(int)\n",
    "\n",
    "#notice int overflow\n",
    "simple_df = pd.read_excel('data/simple_prompt_gemini_flash_0216.xlsx', dtype={'vote': str, 'proposal_id': str})\n",
    "simple_df =simple_df.add_prefix('LLM_')\n",
    "complete_df = pd.read_excel('data/full_prompt_gemini_flash_0216.xlsx', dtype={'vote': str, 'proposal_id': str})\n",
    "complete_df = complete_df.add_prefix('LLM_')"
   ]
  },
  {
   "cell_type": "code",
   "execution_count": 3,
   "metadata": {},
   "outputs": [],
   "source": [
    "# Get statistics using vote_int (numeric) and vote (string) columns\n",
    "vote_stats = vote_df.groupby('proposal_id', as_index=False).agg({\n",
    "    'vote': [\n",
    "        ('most_common_vote', lambda x: x.mode().iloc[0]),  # Most common vote as string\n",
    "        ('vote_counts', lambda x: x.value_counts().to_dict())  # Distribution of votes\n",
    "    ],\n",
    "    'vote_int': [\n",
    "        ('mean', 'mean'),     # Average vote\n",
    "        ('std', 'std'),       # Standard deviation\n",
    "        ('count', 'count'),   # Number of votes\n",
    "        ('median', 'median')  # Median vote\n",
    "    ]\n",
    "})\n",
    "\n",
    "# Flatten column names\n",
    "vote_stats.columns = ['proposal_id' if col[0] == 'proposal_id' \n",
    "                     else f'{col[0]}_{col[1]}' for col in vote_stats.columns]"
   ]
  },
  {
   "cell_type": "code",
   "execution_count": 4,
   "metadata": {},
   "outputs": [],
   "source": [
    "final_df = proposal_df.merge(vote_stats, left_on='id', right_on='proposal_id', how='left')\n",
    "\n",
    "merge_simple_df = final_df.merge(simple_df, left_on='id', right_on='LLM_proposal_id', how='left')\n",
    "merge_complete_df = final_df.merge(complete_df, left_on='id', right_on='LLM_proposal_id', how='left')"
   ]
  },
  {
   "cell_type": "code",
   "execution_count": 29,
   "metadata": {},
   "outputs": [],
   "source": [
    "output_df = final_df.merge(simple_df, left_on='id', right_on='LLM_proposal_id', how='left')\\\n",
    ".merge(complete_df, left_on='id', right_on='LLM_proposal_id', how='left')\n",
    "\n",
    "output_df.columns = ['id', 'title', 'category', 'duration', 'language', 'abstract',\n",
    "       'python_level', 'detailed_description', 'outline', 'supplementary',\n",
    "       'recording_policy', 'slide_link', 'submitter_id', 'created_at',\n",
    "       'objective', 'cancelled', 'accepted', 'conference', 'last_updated_at',\n",
    "       'slido_embed_link', 'referring_policy', 'labels', 'first_time_speaker',\n",
    "       'live_stream_policy', 'hackmd_embed_link', 'living_in_taiwan',\n",
    "       'attend_in_person', 'proposal_id', \n",
    "       'vote_most_common_vote','vote_vote_counts', 'vote_int_mean', 'vote_int_std', 'vote_int_count', 'vote_int_median', \n",
    "       'LLM_summary_simple', 'LLM_comment_simple', 'LLM_vote_simple', 'LLM_proposal_id_simple', \n",
    "       'LLM_summary_complete', 'LLM_comment_complete', 'LLM_vote_complete','LLM_proposal_id_complete']\n",
    "\n",
    "output_df = output_df[['id', 'title', 'category', 'duration', 'language', 'abstract',\n",
    "       'detailed_description', 'outline', 'supplementary', 'objective',\n",
    "       'vote_most_common_vote','vote_vote_counts', 'vote_int_mean', 'vote_int_std', 'vote_int_count', 'vote_int_median', \n",
    "       'LLM_summary_simple', 'LLM_comment_simple', 'LLM_vote_simple', 'LLM_proposal_id_simple', \n",
    "       'LLM_summary_complete', 'LLM_comment_complete', 'LLM_vote_complete','LLM_proposal_id_complete']]"
   ]
  },
  {
   "cell_type": "code",
   "execution_count": 32,
   "metadata": {},
   "outputs": [],
   "source": [
    "#pd.set_option('display.max_columns', 50)\n",
    "\n",
    "output_df['human_eval'] = ''\n",
    "output_df.to_excel('data/pycon_2024_proposal_with_llm_and_review_0217.xlsx', index=False)"
   ]
  },
  {
   "cell_type": "markdown",
   "metadata": {},
   "source": [
    "# confusion matrix"
   ]
  },
  {
   "cell_type": "code",
   "execution_count": 10,
   "metadata": {},
   "outputs": [],
   "source": [
    "# 修改後的檢查函數\n",
    "def check_vote_distribution(merged_df):\n",
    "    print(\"\\n=== Vote Distribution Analysis ===\")\n",
    "    \n",
    "    # LLM votes distribution\n",
    "    print(\"\\nLLM Vote Distribution:\")\n",
    "    print(merged_df['LLM_vote'].value_counts(normalize=True).round(3))\n",
    "    \n",
    "    # Human votes distribution\n",
    "    print(\"\\nHuman Vote Distribution:\")\n",
    "    print(merged_df['vote_most_common_vote'].value_counts(normalize=True).round(3))\n",
    "    \n",
    "    # Vote agreement analysis\n",
    "    agreement = (merged_df['LLM_vote'] == merged_df['vote_most_common_vote'])\n",
    "    print(f\"\\nOverall Agreement Rate: {agreement.mean():.3f}\")\n",
    "    \n",
    "    # Disagreement cases analysis\n",
    "    disagreement_df = merged_df\n",
    "    if len(disagreement_df) > 0:\n",
    "        print(\"\\nAgreement Cases Analysis:\")\n",
    "        print(pd.crosstab(\n",
    "            disagreement_df['LLM_vote'], \n",
    "            disagreement_df['vote_most_common_vote'],\n",
    "            margins=True\n",
    "        ))"
   ]
  },
  {
   "cell_type": "code",
   "execution_count": 15,
   "metadata": {},
   "outputs": [
    {
     "name": "stdout",
     "output_type": "stream",
     "text": [
      "\n",
      "=== Vote Distribution Analysis ===\n",
      "\n",
      "LLM Vote Distribution:\n",
      "LLM_vote\n",
      "+0    0.753\n",
      "+1    0.221\n",
      "-1    0.013\n",
      "-0    0.013\n",
      "Name: proportion, dtype: float64\n",
      "\n",
      "Human Vote Distribution:\n",
      "vote_most_common_vote\n",
      "+0    0.623\n",
      "+1    0.182\n",
      "-0    0.156\n",
      "-1    0.039\n",
      "Name: proportion, dtype: float64\n",
      "\n",
      "Overall Agreement Rate: 0.597\n",
      "\n",
      "Agreement Cases Analysis:\n",
      "vote_most_common_vote  +0  +1  -0  -1  All\n",
      "LLM_vote                                  \n",
      "+0                     38   8  10   2   58\n",
      "+1                     10   6   1   0   17\n",
      "-0                      0   0   1   0    1\n",
      "-1                      0   0   0   1    1\n",
      "All                    48  14  12   3   77\n"
     ]
    }
   ],
   "source": [
    "check_vote_distribution(merge_simple_df)"
   ]
  },
  {
   "cell_type": "code",
   "execution_count": 16,
   "metadata": {},
   "outputs": [
    {
     "name": "stdout",
     "output_type": "stream",
     "text": [
      "\n",
      "=== Vote Distribution Analysis ===\n",
      "\n",
      "LLM Vote Distribution:\n",
      "LLM_vote\n",
      "+0    0.896\n",
      "+1    0.052\n",
      "-0    0.052\n",
      "Name: proportion, dtype: float64\n",
      "\n",
      "Human Vote Distribution:\n",
      "vote_most_common_vote\n",
      "+0    0.623\n",
      "+1    0.182\n",
      "-0    0.156\n",
      "-1    0.039\n",
      "Name: proportion, dtype: float64\n",
      "\n",
      "Overall Agreement Rate: 0.597\n",
      "\n",
      "Agreement Cases Analysis:\n",
      "vote_most_common_vote  +0  +1  -0  -1  All\n",
      "LLM_vote                                  \n",
      "+0                     44  13  11   1   69\n",
      "+1                      3   1   0   0    4\n",
      "-0                      1   0   1   2    4\n",
      "All                    48  14  12   3   77\n"
     ]
    }
   ],
   "source": [
    "check_vote_distribution(merge_complete_df)"
   ]
  },
  {
   "cell_type": "code",
   "execution_count": null,
   "metadata": {},
   "outputs": [],
   "source": []
  }
 ],
 "metadata": {
  "language_info": {
   "name": "python"
  }
 },
 "nbformat": 4,
 "nbformat_minor": 2
}
