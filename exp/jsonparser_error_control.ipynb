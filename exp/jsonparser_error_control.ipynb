{
 "cells": [
  {
   "cell_type": "code",
   "execution_count": 1,
   "metadata": {},
   "outputs": [
    {
     "name": "stderr",
     "output_type": "stream",
     "text": [
      "/usr/local/lib/python3.11/site-packages/tqdm/auto.py:21: TqdmWarning: IProgress not found. Please update jupyter and ipywidgets. See https://ipywidgets.readthedocs.io/en/stable/user_install.html\n",
      "  from .autonotebook import tqdm as notebook_tqdm\n"
     ]
    },
    {
     "name": "stdout",
     "output_type": "stream",
     "text": [
      "JsonOutputParser failed with error: Invalid json output: ```json\n",
      "{'milestone': 'duluuu'}\n",
      "```\n",
      "For troubleshooting, visit: https://python.langchain.com/docs/troubleshooting/errors/OUTPUT_PARSING_FAILURE \n",
      "Fixed result: {'milestone': 'duluuu'}\n"
     ]
    }
   ],
   "source": [
    "from langchain_core.output_parsers import JsonOutputParser\n",
    "from langchain.output_parsers.fix import OutputFixingParser\n",
    "\n",
    "from langchain_google_genai import ChatGoogleGenerativeAI\n",
    "\n",
    "# 模擬一個格式錯誤的 JSON 輸出（使用單引號而非雙引號）\n",
    "malformed_output = \"```json\\n{'milestone': 'duluuu'}\\n```\"\n",
    "\n",
    "# 建立原始的 JsonOutputParser\n",
    "json_parser = JsonOutputParser()\n",
    "\n",
    "# 嘗試用 JsonOutputParser 解析，預期會失敗\n",
    "try:\n",
    "    result = json_parser.parse(malformed_output)\n",
    "    print(\"Parsed result:\", result)\n",
    "except Exception as e:\n",
    "    print(\"JsonOutputParser failed with error:\", e)\n",
    "\n",
    "# 建立一個 LLM（例如 ChatOpenAI）作為修正工具\n",
    "\n",
    "#model = \"gemini-2.0-pro-exp-02-05\"\n",
    "model = \"gemini-2.0-flash-thinking-exp-01-21\"\n",
    "#model = \"gemini-2.0-flash-exp\"\n",
    "\n",
    "llm = ChatGoogleGenerativeAI(model=model, temperature=0)\n",
    "\n",
    "# 透過 OutputFixingParser 來包裝原始的 json_parser\n",
    "fixing_parser = OutputFixingParser.from_llm(parser=json_parser, llm=llm)\n",
    "\n",
    "# 使用 OutputFixingParser 嘗試修正並解析格式錯誤的輸出\n",
    "try:\n",
    "    fixed_result = fixing_parser.parse(malformed_output)\n",
    "    print(\"Fixed result:\", fixed_result)\n",
    "except Exception as e:\n",
    "    print(\"OutputFixingParser failed with error:\", e)\n"
   ]
  },
  {
   "cell_type": "code",
   "execution_count": 22,
   "metadata": {},
   "outputs": [
    {
     "data": {
      "text/plain": [
       "{'milestone': 'duluuu'}"
      ]
     },
     "execution_count": 22,
     "metadata": {},
     "output_type": "execute_result"
    }
   ],
   "source": [
    "from langchain.output_parsers import OutputFixingParser\n",
    "from langchain_core.output_parsers import JsonOutputParser\n",
    "from langchain_google_genai import ChatGoogleGenerativeAI\n",
    "\n",
    "\n",
    "#model = \"gemini-2.0-pro-exp-02-05\"\n",
    "model = \"gemini-2.0-flash-thinking-exp-01-21\"\n",
    "#model = \"gemini-2.0-flash-exp\"\n",
    "\n",
    "llm = ChatGoogleGenerativeAI(model=model, temperature=0)\n",
    "\n",
    "\n",
    "# 模擬一個格式錯誤的 JSON 輸出（使用單引號而非雙引號）\n",
    "malformed_output = '''```json\\n{\"milestone\": \"duluuu\"}\\n```'''\n",
    "\n",
    "#要找到 non strict mode...\n",
    "OutputFixingParser.from_llm(parser=JsonOutputParser(), llm=llm).parse(malformed_output)"
   ]
  },
  {
   "cell_type": "code",
   "execution_count": 28,
   "metadata": {},
   "outputs": [
    {
     "data": {
      "text/plain": [
       "'```json\\n{\"milestone\": \"duluuu\"}\\n```'"
      ]
     },
     "execution_count": 28,
     "metadata": {},
     "output_type": "execute_result"
    }
   ],
   "source": [
    "malformed_output"
   ]
  },
  {
   "cell_type": "code",
   "execution_count": 29,
   "metadata": {},
   "outputs": [
    {
     "ename": "TypeError",
     "evalue": "Expected a Runnable, callable or dict.Instead got an unsupported type: <class 'str'>",
     "output_type": "error",
     "traceback": [
      "\u001b[0;31m---------------------------------------------------------------------------\u001b[0m",
      "\u001b[0;31mTypeError\u001b[0m                                 Traceback (most recent call last)",
      "\u001b[1;32m/Users/nien/Desktop/Kevin/pycon2025/PyCon-TW-2025/jsonparser_error_control.ipynb Cell 4\u001b[0m line \u001b[0;36m1\n\u001b[0;32m----> <a href='vscode-notebook-cell:/Users/nien/Desktop/Kevin/pycon2025/PyCon-TW-2025/jsonparser_error_control.ipynb#X11sZmlsZQ%3D%3D?line=0'>1</a>\u001b[0m malformed_output \u001b[39m|\u001b[39;49m JsonOutputParser()\n",
      "File \u001b[0;32m/usr/local/lib/python3.11/site-packages/langchain_core/runnables/base.py:586\u001b[0m, in \u001b[0;36mRunnable.__ror__\u001b[0;34m(self, other)\u001b[0m\n\u001b[1;32m    576\u001b[0m \u001b[39mdef\u001b[39;00m \u001b[39m__ror__\u001b[39m(\n\u001b[1;32m    577\u001b[0m     \u001b[39mself\u001b[39m,\n\u001b[1;32m    578\u001b[0m     other: Union[\n\u001b[0;32m   (...)\u001b[0m\n\u001b[1;32m    583\u001b[0m     ],\n\u001b[1;32m    584\u001b[0m ) \u001b[39m-\u001b[39m\u001b[39m>\u001b[39m RunnableSerializable[Other, Output]:\n\u001b[1;32m    585\u001b[0m \u001b[39m    \u001b[39m\u001b[39m\"\"\"Compose this Runnable with another object to create a RunnableSequence.\"\"\"\u001b[39;00m\n\u001b[0;32m--> 586\u001b[0m     \u001b[39mreturn\u001b[39;00m RunnableSequence(coerce_to_runnable(other), \u001b[39mself\u001b[39m)\n",
      "File \u001b[0;32m/usr/local/lib/python3.11/site-packages/langchain_core/runnables/base.py:5840\u001b[0m, in \u001b[0;36mcoerce_to_runnable\u001b[0;34m(thing)\u001b[0m\n\u001b[1;32m   5835\u001b[0m \u001b[39melse\u001b[39;00m:\n\u001b[1;32m   5836\u001b[0m     msg \u001b[39m=\u001b[39m (\n\u001b[1;32m   5837\u001b[0m         \u001b[39mf\u001b[39m\u001b[39m\"\u001b[39m\u001b[39mExpected a Runnable, callable or dict.\u001b[39m\u001b[39m\"\u001b[39m\n\u001b[1;32m   5838\u001b[0m         \u001b[39mf\u001b[39m\u001b[39m\"\u001b[39m\u001b[39mInstead got an unsupported type: \u001b[39m\u001b[39m{\u001b[39;00m\u001b[39mtype\u001b[39m(thing)\u001b[39m}\u001b[39;00m\u001b[39m\"\u001b[39m\n\u001b[1;32m   5839\u001b[0m     )\n\u001b[0;32m-> 5840\u001b[0m     \u001b[39mraise\u001b[39;00m \u001b[39mTypeError\u001b[39;00m(msg)\n",
      "\u001b[0;31mTypeError\u001b[0m: Expected a Runnable, callable or dict.Instead got an unsupported type: <class 'str'>"
     ]
    }
   ],
   "source": [
    "malformed_output | JsonOutputParser()"
   ]
  },
  {
   "cell_type": "code",
   "execution_count": 25,
   "metadata": {},
   "outputs": [
    {
     "ename": "ValueError",
     "evalue": "<string>:1 Unexpected \"`\" at column 1",
     "output_type": "error",
     "traceback": [
      "\u001b[0;31m---------------------------------------------------------------------------\u001b[0m",
      "\u001b[0;31mValueError\u001b[0m                                Traceback (most recent call last)",
      "\u001b[1;32m/Users/nien/Desktop/Kevin/pycon2025/PyCon-TW-2025/jsonparser_error_control.ipynb Cell 3\u001b[0m line \u001b[0;36m7\n\u001b[1;32m      <a href='vscode-notebook-cell:/Users/nien/Desktop/Kevin/pycon2025/PyCon-TW-2025/jsonparser_error_control.ipynb#W4sZmlsZQ%3D%3D?line=4'>5</a>\u001b[0m \u001b[39m# Extract the JSON content from the markdown code block\u001b[39;00m\n\u001b[1;32m      <a href='vscode-notebook-cell:/Users/nien/Desktop/Kevin/pycon2025/PyCon-TW-2025/jsonparser_error_control.ipynb#W4sZmlsZQ%3D%3D?line=5'>6</a>\u001b[0m json_content \u001b[39m=\u001b[39m malformed_output\u001b[39m.\u001b[39msplit(\u001b[39m'\u001b[39m\u001b[39m\\n\u001b[39;00m\u001b[39m'\u001b[39m)[\u001b[39m1\u001b[39m]\u001b[39m.\u001b[39mstrip()\n\u001b[0;32m----> <a href='vscode-notebook-cell:/Users/nien/Desktop/Kevin/pycon2025/PyCon-TW-2025/jsonparser_error_control.ipynb#W4sZmlsZQ%3D%3D?line=6'>7</a>\u001b[0m parsed_result \u001b[39m=\u001b[39m loads(malformed_output)\n\u001b[1;32m      <a href='vscode-notebook-cell:/Users/nien/Desktop/Kevin/pycon2025/PyCon-TW-2025/jsonparser_error_control.ipynb#W4sZmlsZQ%3D%3D?line=8'>9</a>\u001b[0m \u001b[39mprint\u001b[39m(parsed_result)\n",
      "File \u001b[0;32m/usr/local/lib/python3.11/site-packages/json5/lib.py:150\u001b[0m, in \u001b[0;36mloads\u001b[0;34m(s, encoding, cls, object_hook, parse_float, parse_int, parse_constant, strict, object_pairs_hook, allow_duplicate_keys)\u001b[0m\n\u001b[1;32m    148\u001b[0m ast, err, _ \u001b[39m=\u001b[39m parser\u001b[39m.\u001b[39mparse(global_vars\u001b[39m=\u001b[39m{\u001b[39m'\u001b[39m\u001b[39m_strict\u001b[39m\u001b[39m'\u001b[39m: strict})\n\u001b[1;32m    149\u001b[0m \u001b[39mif\u001b[39;00m err:\n\u001b[0;32m--> 150\u001b[0m     \u001b[39mraise\u001b[39;00m \u001b[39mValueError\u001b[39;00m(err)\n\u001b[1;32m    152\u001b[0m \u001b[39mdef\u001b[39;00m \u001b[39m_fp_constant_parser\u001b[39m(s):\n\u001b[1;32m    153\u001b[0m     \u001b[39mreturn\u001b[39;00m \u001b[39mfloat\u001b[39m(s\u001b[39m.\u001b[39mreplace(\u001b[39m'\u001b[39m\u001b[39mInfinity\u001b[39m\u001b[39m'\u001b[39m, \u001b[39m'\u001b[39m\u001b[39minf\u001b[39m\u001b[39m'\u001b[39m)\u001b[39m.\u001b[39mreplace(\u001b[39m'\u001b[39m\u001b[39mNaN\u001b[39m\u001b[39m'\u001b[39m, \u001b[39m'\u001b[39m\u001b[39mnan\u001b[39m\u001b[39m'\u001b[39m))\n",
      "\u001b[0;31mValueError\u001b[0m: <string>:1 Unexpected \"`\" at column 1"
     ]
    }
   ],
   "source": [
    "from json5 import loads\n",
    "\n",
    "# This will work with single quotes, trailing commas, and more\n",
    "malformed_output = '''```json\\n{\"milestone\": \"duluuu\"}\\n```'''\n",
    "# Extract the JSON content from the markdown code block\n",
    "json_content = malformed_output.split('\\n')[1].strip()\n",
    "parsed_result = loads(malformed_output)\n",
    "\n",
    "print(parsed_result)"
   ]
  },
  {
   "cell_type": "code",
   "execution_count": 23,
   "metadata": {},
   "outputs": [
    {
     "name": "stdout",
     "output_type": "stream",
     "text": [
      "{'milestone': 'duluuu'}\n"
     ]
    }
   ],
   "source": [
    "print(json_content)"
   ]
  },
  {
   "cell_type": "code",
   "execution_count": null,
   "metadata": {},
   "outputs": [],
   "source": [
    "from langchain_core.output_parsers import PydanticOutputParser"
   ]
  },
  {
   "cell_type": "code",
   "execution_count": null,
   "metadata": {},
   "outputs": [],
   "source": [
    "from langchain_core.output_parsers import JsonOutputParser\n",
    "from langchain.output_parsers.fix import OutputFixingParser\n",
    "from langchain_google_genai import ChatGoogleGenerativeAI\n",
    "\n",
    "\n",
    "# 建立 LLM\n",
    "\n",
    "model = \"gemini-2.0-pro-exp-02-05\"\n",
    "fixing_model = \"gemini-2.0-flash-thinking-exp-01-21\"\n",
    "\n",
    "llm = ChatGoogleGenerativeAI(model=model, temperature=0)\n",
    "fixing_llm = ChatGoogleGenerativeAI(model=fixing_model, temperature=0)\n",
    "\n",
    "# 建立解析器\n",
    "json_parser = JsonOutputParser()\n",
    "fixing_parser = OutputFixingParser.from_llm(parser=json_parser, llm=fixing_llm)\n",
    "\n",
    "# 測試用例\n",
    "malformed_output = \"```json\\n{'milestone': 'duluuu'}\\n```\"\n",
    "\n",
    "# 直接使用 fixing_parser\n",
    "try:\n",
    "    fixed_result = fixing_parser.parse(malformed_output)\n",
    "    print(f\"Successfully parsed result: {fixed_result}\")\n",
    "except Exception as e:\n",
    "    print(f\"Parsing failed: {e}\")\n"
   ]
  }
 ],
 "metadata": {
  "language_info": {
   "name": "python"
  }
 },
 "nbformat": 4,
 "nbformat_minor": 2
}
