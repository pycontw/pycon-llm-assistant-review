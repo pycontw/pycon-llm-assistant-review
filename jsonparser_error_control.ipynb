{
 "cells": [
  {
   "cell_type": "code",
   "execution_count": 1,
   "metadata": {},
   "outputs": [
    {
     "name": "stderr",
     "output_type": "stream",
     "text": [
      "/usr/local/lib/python3.11/site-packages/tqdm/auto.py:21: TqdmWarning: IProgress not found. Please update jupyter and ipywidgets. See https://ipywidgets.readthedocs.io/en/stable/user_install.html\n",
      "  from .autonotebook import tqdm as notebook_tqdm\n"
     ]
    },
    {
     "name": "stdout",
     "output_type": "stream",
     "text": [
      "JsonOutputParser failed with error: Invalid json output: ```json\n",
      "{'milestone': 'duluuu'}\n",
      "```\n",
      "For troubleshooting, visit: https://python.langchain.com/docs/troubleshooting/errors/OUTPUT_PARSING_FAILURE \n",
      "Fixed result: {'milestone': 'duluuu'}\n"
     ]
    }
   ],
   "source": [
    "from langchain_core.output_parsers import JsonOutputParser\n",
    "from langchain.output_parsers.fix import OutputFixingParser\n",
    "\n",
    "from langchain_google_genai import ChatGoogleGenerativeAI\n",
    "\n",
    "# 模擬一個格式錯誤的 JSON 輸出（使用單引號而非雙引號）\n",
    "malformed_output = \"```json\\n{'milestone': 'duluuu'}\\n```\"\n",
    "\n",
    "# 建立原始的 JsonOutputParser\n",
    "json_parser = JsonOutputParser()\n",
    "\n",
    "# 嘗試用 JsonOutputParser 解析，預期會失敗\n",
    "try:\n",
    "    result = json_parser.parse(malformed_output)\n",
    "    print(\"Parsed result:\", result)\n",
    "except Exception as e:\n",
    "    print(\"JsonOutputParser failed with error:\", e)\n",
    "\n",
    "# 建立一個 LLM（例如 ChatOpenAI）作為修正工具\n",
    "\n",
    "#model = \"gemini-2.0-pro-exp-02-05\"\n",
    "model = \"gemini-2.0-flash-thinking-exp-01-21\"\n",
    "#model = \"gemini-2.0-flash-exp\"\n",
    "\n",
    "llm = ChatGoogleGenerativeAI(model=model, temperature=0)\n",
    "\n",
    "# 透過 OutputFixingParser 來包裝原始的 json_parser\n",
    "fixing_parser = OutputFixingParser.from_llm(parser=json_parser, llm=llm)\n",
    "\n",
    "# 使用 OutputFixingParser 嘗試修正並解析格式錯誤的輸出\n",
    "try:\n",
    "    fixed_result = fixing_parser.parse(malformed_output)\n",
    "    print(\"Fixed result:\", fixed_result)\n",
    "except Exception as e:\n",
    "    print(\"OutputFixingParser failed with error:\", e)\n"
   ]
  },
  {
   "cell_type": "code",
   "execution_count": null,
   "metadata": {},
   "outputs": [
    {
     "data": {
      "text/plain": [
       "{'milestone': 'duluuu'}"
      ]
     },
     "execution_count": 14,
     "metadata": {},
     "output_type": "execute_result"
    }
   ],
   "source": [
    "from langchain.output_parsers import OutputFixingParser\n",
    "from langchain_core.output_parsers import JsonOutputParser\n",
    "from langchain_google_genai import ChatGoogleGenerativeAI\n",
    "\n",
    "\n",
    "#model = \"gemini-2.0-pro-exp-02-05\"\n",
    "model = \"gemini-2.0-flash-thinking-exp-01-21\"\n",
    "#model = \"gemini-2.0-flash-exp\"\n",
    "\n",
    "llm = ChatGoogleGenerativeAI(model=model, temperature=0)\n",
    "\n",
    "\n",
    "# 模擬一個格式錯誤的 JSON 輸出（使用單引號而非雙引號）\n",
    "malformed_output = '''```json\\n{'milestone': 'duluuu'}\\n```'''\n",
    "\n",
    "#要找到 non strict mode...\n",
    "OutputFixingParser.from_llm(parser=JsonOutputParser(), llm=llm).parse(malformed_output)"
   ]
  },
  {
   "cell_type": "code",
   "execution_count": null,
   "metadata": {},
   "outputs": [],
   "source": [
    "from langchain_core.output_parsers import PydanticOutputParser"
   ]
  },
  {
   "cell_type": "code",
   "execution_count": null,
   "metadata": {},
   "outputs": [],
   "source": [
    "from langchain_core.output_parsers import JsonOutputParser\n",
    "from langchain.output_parsers.fix import OutputFixingParser\n",
    "from langchain_google_genai import ChatGoogleGenerativeAI\n",
    "\n",
    "\n",
    "# 建立 LLM\n",
    "\n",
    "model = \"gemini-2.0-pro-exp-02-05\"\n",
    "fixing_model = \"gemini-2.0-flash-thinking-exp-01-21\"\n",
    "\n",
    "llm = ChatGoogleGenerativeAI(model=model, temperature=0)\n",
    "fixing_llm = ChatGoogleGenerativeAI(model=fixing_model, temperature=0)\n",
    "\n",
    "# 建立解析器\n",
    "json_parser = JsonOutputParser()\n",
    "fixing_parser = OutputFixingParser.from_llm(parser=json_parser, llm=fixing_llm)\n",
    "\n",
    "# 測試用例\n",
    "malformed_output = \"```json\\n{'milestone': 'duluuu'}\\n```\"\n",
    "\n",
    "# 直接使用 fixing_parser\n",
    "try:\n",
    "    fixed_result = fixing_parser.parse(malformed_output)\n",
    "    print(f\"Successfully parsed result: {fixed_result}\")\n",
    "except Exception as e:\n",
    "    print(f\"Parsing failed: {e}\")\n"
   ]
  }
 ],
 "metadata": {
  "language_info": {
   "name": "python"
  }
 },
 "nbformat": 4,
 "nbformat_minor": 2
}
